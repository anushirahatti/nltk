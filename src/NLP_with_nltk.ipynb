{
  "nbformat": 4,
  "nbformat_minor": 0,
  "metadata": {
    "colab": {
      "name": "NLP_with_nltk.ipynb",
      "provenance": [],
      "authorship_tag": "ABX9TyPqW1j2dLhQPHYwijfOrBxq",
      "include_colab_link": true
    },
    "kernelspec": {
      "name": "python3",
      "display_name": "Python 3"
    }
  },
  "cells": [
    {
      "cell_type": "markdown",
      "metadata": {
        "id": "view-in-github",
        "colab_type": "text"
      },
      "source": [
        "<a href=\"https://colab.research.google.com/github/anushirahatti/nltk/blob/master/src/NLP_with_nltk.ipynb\" target=\"_parent\"><img src=\"https://colab.research.google.com/assets/colab-badge.svg\" alt=\"Open In Colab\"/></a>"
      ]
    },
    {
      "cell_type": "code",
      "metadata": {
        "id": "4JV4jnspjLan",
        "colab_type": "code",
        "colab": {}
      },
      "source": [
        "import nltk"
      ],
      "execution_count": 0,
      "outputs": []
    },
    {
      "cell_type": "code",
      "metadata": {
        "id": "xVCEX50UkDg5",
        "colab_type": "code",
        "colab": {}
      },
      "source": [
        "import urllib.request\n",
        "response =  urllib.request.urlopen('https://en.wikipedia.org/wiki/Data_science')\n",
        "html = response.read()\n",
        "#print(html)"
      ],
      "execution_count": 0,
      "outputs": []
    },
    {
      "cell_type": "code",
      "metadata": {
        "id": "k5c4gIMEjv5J",
        "colab_type": "code",
        "colab": {}
      },
      "source": [
        "from bs4 import BeautifulSoup\n",
        "soup = BeautifulSoup(html,'html5lib')\n",
        "text = soup.get_text(strip = True)\n",
        "#print(text)"
      ],
      "execution_count": 0,
      "outputs": []
    },
    {
      "cell_type": "code",
      "metadata": {
        "id": "J4gCuWyvkSYi",
        "colab_type": "code",
        "colab": {}
      },
      "source": [
        "tokens = [t for t in text.split()]\n",
        "#print(tokens)"
      ],
      "execution_count": 0,
      "outputs": []
    },
    {
      "cell_type": "code",
      "metadata": {
        "id": "D1ODE0zUk4Cq",
        "colab_type": "code",
        "outputId": "2496f2c7-6786-4224-b4c0-5a5aadfdb9e5",
        "colab": {
          "base_uri": "https://localhost:8080/",
          "height": 68
        }
      },
      "source": [
        "nltk.download('stopwords')"
      ],
      "execution_count": 5,
      "outputs": [
        {
          "output_type": "stream",
          "text": [
            "[nltk_data] Downloading package stopwords to /root/nltk_data...\n",
            "[nltk_data]   Package stopwords is already up-to-date!\n"
          ],
          "name": "stdout"
        },
        {
          "output_type": "execute_result",
          "data": {
            "text/plain": [
              "True"
            ]
          },
          "metadata": {
            "tags": []
          },
          "execution_count": 5
        }
      ]
    },
    {
      "cell_type": "code",
      "metadata": {
        "id": "jYTZx0tkkZnd",
        "colab_type": "code",
        "outputId": "ed3545be-4c89-433b-f9a7-0a76135a1ea8",
        "colab": {
          "base_uri": "https://localhost:8080/",
          "height": 371
        }
      },
      "source": [
        "from nltk.corpus import stopwords\n",
        "sr= stopwords.words('english')\n",
        "clean_tokens = tokens[:]\n",
        "for token in tokens:\n",
        "    if token in stopwords.words('english'):\n",
        "        \n",
        "        clean_tokens.remove(token)\n",
        "freq = nltk.FreqDist(clean_tokens)\n",
        "#for key,val in freq.items():\n",
        "    #print(str(key) + ':' + str(val))\n",
        "freq.plot(20, cumulative=False)"
      ],
      "execution_count": 6,
      "outputs": [
        {
          "output_type": "display_data",
          "data": {
            "image/png": "[encoded data removed]",
            "text/plain": [
              "<Figure size 432x288 with 1 Axes>"
            ]
          },
          "metadata": {
            "tags": [],
            "needs_background": "light"
          }
        }
      ]
    },
    {
      "cell_type": "markdown",
      "metadata": {
        "id": "FrAomXlZlJfj",
        "colab_type": "text"
      },
      "source": [
        "**Reference:**\n",
        "<br/> https://towardsdatascience.com/gentle-start-to-natural-language-processing-using-python-6e46c07addf3"
      ]
    }
  ]
}